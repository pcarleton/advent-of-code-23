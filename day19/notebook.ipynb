{
 "cells": [
  {
   "cell_type": "code",
   "execution_count": 18,
   "metadata": {},
   "outputs": [
    {
     "data": {
      "text/plain": [
       "('px',\n",
       " [Crit(r=Op(f='a', op='<', v='2006'), d='qkq'),\n",
       "  Crit(r=Op(f='m', op='>', v='2090'), d='A'),\n",
       "  Crit(r=None, d='rfg')],\n",
       " Op(f='a', op='<', v='2006'))"
      ]
     },
     "execution_count": 18,
     "metadata": {},
     "output_type": "execute_result"
    }
   ],
   "source": [
    "from collections import namedtuple\n",
    "\n",
    "Crit = namedtuple('Crit', ['r', 'd'])\n",
    "Op = namedtuple('Op', ['f', 'op', 'v'])\n",
    "\n",
    "r = \"px{a<2006:qkq,m>2090:A,rfg}\"\n",
    "name, rest = r.split(\"{\")\n",
    "rules = rest.strip(\"}\").split(\",\")\n",
    "\n",
    "end = []\n",
    "for c in rules:\n",
    "    ps = c.split(\":\")\n",
    "    if len(ps) == 1:\n",
    "        end.append(Crit(None, ps[0]))\n",
    "    else:\n",
    "        crit, dest = ps\n",
    "        for sep in [\">\",\"<\"]:\n",
    "            if sep in crit:\n",
    "                ops = crit.partition(sep)\n",
    "                end.append(Crit(Op(*ops), dest))\n",
    "    \n",
    "name, end, getattr(end[0], 'r')"
   ]
  },
  {
   "cell_type": "code",
   "execution_count": 14,
   "metadata": {},
   "outputs": [
    {
     "data": {
      "text/plain": [
       "('a', '>', 'b')"
      ]
     },
     "execution_count": 14,
     "metadata": {},
     "output_type": "execute_result"
    }
   ],
   "source": [
    "\"a>b\".partition(\">\")"
   ]
  },
  {
   "cell_type": "code",
   "execution_count": 19,
   "metadata": {},
   "outputs": [],
   "source": [
    "txt = open(\"./test.txt\").read()"
   ]
  },
  {
   "cell_type": "code",
   "execution_count": 21,
   "metadata": {},
   "outputs": [
    {
     "data": {
      "text/plain": [
       "['px{a<2006:qkq,m>2090:A,rfg}\\npv{a>1716:R,A}\\nlnx{m>1548:A,A}\\nrfg{s<537:gd,x>2440:R,A}\\nqs{s>3448:A,lnx}\\nqkq{x<1416:A,crn}\\ncrn{x>2662:A,R}\\nin{s<1351:px,qqz}\\nqqz{s>2770:qs,m<1801:hdj,R}\\ngd{a>3333:R,R}\\nhdj{m>838:A,pv}',\n",
       " '{x=787,m=2655,a=1222,s=2876}\\n{x=1679,m=44,a=2067,s=496}\\n{x=2036,m=264,a=79,s=2244}\\n{x=2461,m=1339,a=466,s=291}\\n{x=2127,m=1623,a=2188,s=1013}']"
      ]
     },
     "execution_count": 21,
     "metadata": {},
     "output_type": "execute_result"
    }
   ],
   "source": [
    "txt.split(\"\\n\\n\")"
   ]
  },
  {
   "cell_type": "code",
   "execution_count": 26,
   "metadata": {},
   "outputs": [
    {
     "data": {
      "text/plain": [
       "{'x': '787', 'm': '2655', 'a': '1222', 's': '2876'}"
      ]
     },
     "execution_count": 26,
     "metadata": {},
     "output_type": "execute_result"
    }
   ],
   "source": [
    "p = \"{x=787,m=2655,a=1222,s=2876}\"\n",
    "dict([t.split(\"=\") for t in p.strip(\"{}\").split(\",\")])"
   ]
  },
  {
   "cell_type": "code",
   "execution_count": 28,
   "metadata": {},
   "outputs": [
    {
     "ename": "ImportError",
     "evalue": "attempted relative import with no known parent package",
     "output_type": "error",
     "traceback": [
      "\u001b[0;31m---------------------------------------------------------------------------\u001b[0m",
      "\u001b[0;31mImportError\u001b[0m                               Traceback (most recent call last)",
      "\u001b[1;32m/Users/paul/projects/advent/day19/notebook.ipynb Cell 6\u001b[0m line \u001b[0;36m1\n\u001b[0;32m----> <a href='vscode-notebook-cell:/Users/paul/projects/advent/day19/notebook.ipynb#W5sZmlsZQ%3D%3D?line=0'>1</a>\u001b[0m \u001b[39mfrom\u001b[39;00m \u001b[39m.\u001b[39;00m\u001b[39m.\u001b[39;00m\u001b[39mutil\u001b[39;00m \u001b[39mimport\u001b[39;00m \u001b[39m*\u001b[39m\n\u001b[1;32m      <a href='vscode-notebook-cell:/Users/paul/projects/advent/day19/notebook.ipynb#W5sZmlsZQ%3D%3D?line=2'>3</a>\u001b[0m D \u001b[39m=\u001b[39m \u001b[39mopen\u001b[39m(\u001b[39minput\u001b[39m)\u001b[39m.\u001b[39mread()\n\u001b[1;32m      <a href='vscode-notebook-cell:/Users/paul/projects/advent/day19/notebook.ipynb#W5sZmlsZQ%3D%3D?line=4'>5</a>\u001b[0m \u001b[39mfrom\u001b[39;00m \u001b[39mcollections\u001b[39;00m \u001b[39mimport\u001b[39;00m namedtuple\n",
      "\u001b[0;31mImportError\u001b[0m: attempted relative import with no known parent package"
     ]
    }
   ],
   "source": [
    "from ..util import *\n",
    "\n",
    "D = open(input).read()\n",
    "\n",
    "from collections import namedtuple\n",
    "\n",
    "Crit = namedtuple('Crit', ['r', 'd'])\n",
    "Op = namedtuple('Op', ['f', 'op', 'v'])\n",
    "\n",
    "# px{a<2006:qkq,m>2090:A,rfg}\n",
    "def parse_rule(r):\n",
    "    name, rest = r.split(\"{\")\n",
    "    rules = rest.strip(\"}\").split(\",\")\n",
    "\n",
    "    end = []\n",
    "    for c in rules:\n",
    "        ps = c.split(\":\")\n",
    "        if len(ps) == 1:\n",
    "            end.append(Crit(None, ps[0]))\n",
    "        else:\n",
    "            crit, dest = ps\n",
    "            for sep in [\">\",\"<\"]:\n",
    "                if sep in crit:\n",
    "                    ops = crit.partition(sep)\n",
    "                    end.append(Crit(Op(*ops), dest))\n",
    "\n",
    "    return name, end\n",
    "\n",
    "c1, c2 = splitdn(D)\n",
    "\n",
    "def parse_piece(p):\n",
    "    return dict([t.split(\"=\") for t in p.strip(\"{}\").split(\",\")])\n",
    "\n",
    "rules = {r[0]: r[1] for r in [parse_rule(l) for l in c1.split()]}\n",
    "pieces = [parse_piece(p) for p in c2.split()]"
   ]
  },
  {
   "cell_type": "code",
   "execution_count": null,
   "metadata": {},
   "outputs": [],
   "source": []
  }
 ],
 "metadata": {
  "kernelspec": {
   "display_name": "env",
   "language": "python",
   "name": "python3"
  },
  "language_info": {
   "codemirror_mode": {
    "name": "ipython",
    "version": 3
   },
   "file_extension": ".py",
   "mimetype": "text/x-python",
   "name": "python",
   "nbconvert_exporter": "python",
   "pygments_lexer": "ipython3",
   "version": "3.11.4"
  }
 },
 "nbformat": 4,
 "nbformat_minor": 2
}
