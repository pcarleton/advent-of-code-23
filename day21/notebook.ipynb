{
 "cells": [
  {
   "cell_type": "code",
   "execution_count": 23,
   "metadata": {},
   "outputs": [
    {
     "data": {
      "text/plain": [
       "{(4+5j), (4+6j), (5+4j), (6+6j)}"
      ]
     },
     "execution_count": 23,
     "metadata": {},
     "output_type": "execute_result"
    }
   ],
   "source": [
    "\n",
    "input = \"./test.txt\"\n",
    "# input = \"./day21/input.txt\"\n",
    "\n",
    "D = open(input).readlines()\n",
    "\n",
    "mat = [l.strip() for l in D]\n",
    "\n",
    "\n",
    "def find_s(mat):\n",
    "    for i, row in enumerate(mat):\n",
    "        if 'S' not in row:\n",
    "            continue\n",
    "        return complex(row.index('S'), i)\n",
    "\n",
    "\n",
    "def surround(origin):\n",
    "    deltas = [\n",
    "        complex(0, -1),\n",
    "        complex(0, 1),\n",
    "        complex(1, 0),\n",
    "        complex(-1, 0),\n",
    "    ]\n",
    "    return [origin+d for d in deltas]\n",
    "\n",
    "def bounds_filter(pts, mat):\n",
    "    return [p for p in pts \n",
    "            if p.real >= 0 and\n",
    "            p.real < len(mat[0]) and \n",
    "            p.imag >= 0 and p.imag < len(mat)]\n",
    "\n",
    "def matp(p, mat):\n",
    "    return mat[int(p.imag)][int(p.real)]\n",
    "\n",
    "start = find_s(mat)\n",
    "\n",
    "def find_dests(orig, mat, rem):\n",
    "    if rem <= 0:\n",
    "        return set([orig])\n",
    "\n",
    "    neighbors = bounds_filter(surround(orig), mat)\n",
    "    not_rocks = [p for p in neighbors if matp(p, mat) != '#']\n",
    "\n",
    "    dests = set()\n",
    "    for nr in not_rocks:\n",
    "        dests = dests | find_dests(nr, mat, rem-1)\n",
    "    \n",
    "    return dests\n",
    "\n",
    "a1 = find_dests(start, mat, 1)\n",
    "\n",
    "a1\n",
    "\n"
   ]
  },
  {
   "cell_type": "code",
   "execution_count": null,
   "metadata": {},
   "outputs": [],
   "source": [
    "# breadth first search, Dijkstra's?\n",
    "\n",
    "# It's not quite. Dijkstra's is looking for shortest path,\n",
    "# but we want most nodes in a path... or rather \n",
    "\n",
    "# it's actually not that, we want to know where he ends up\n",
    "# so it's about figuring out whether a point is on the end point\n",
    "# based on even/odd I guess.\n",
    "\n",
    "# Sounds like recursion"
   ]
  }
 ],
 "metadata": {
  "kernelspec": {
   "display_name": "env",
   "language": "python",
   "name": "python3"
  },
  "language_info": {
   "codemirror_mode": {
    "name": "ipython",
    "version": 3
   },
   "file_extension": ".py",
   "mimetype": "text/x-python",
   "name": "python",
   "nbconvert_exporter": "python",
   "pygments_lexer": "ipython3",
   "version": "3.11.4"
  }
 },
 "nbformat": 4,
 "nbformat_minor": 2
}
